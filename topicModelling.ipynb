{
 "cells": [
  {
   "cell_type": "markdown",
   "metadata": {},
   "source": [
    "# TOPIC MODELLING ON AUDIO "
   ]
  },
  {
   "cell_type": "markdown",
   "metadata": {},
   "source": [
    "## Audio file conversion to text "
   ]
  },
  {
   "cell_type": "code",
   "execution_count": 13,
   "metadata": {},
   "outputs": [],
   "source": [
    "import speech_recognition as sr\n",
    "import pyaudio\n",
    "import matplotlib.pyplot as plt\n",
    "import numpy as np"
   ]
  },
  {
   "cell_type": "code",
   "execution_count": 14,
   "metadata": {},
   "outputs": [],
   "source": [
    "r = sr.Recognizer()"
   ]
  },
  {
   "cell_type": "code",
   "execution_count": 15,
   "metadata": {},
   "outputs": [],
   "source": [
    "mic=sr.Microphone()"
   ]
  },
  {
   "cell_type": "markdown",
   "metadata": {},
   "source": [
    "### English File"
   ]
  },
  {
   "cell_type": "code",
   "execution_count": 21,
   "metadata": {},
   "outputs": [],
   "source": [
    "eng_file = sr.AudioFile('eng_file.wav')"
   ]
  },
  {
   "cell_type": "code",
   "execution_count": 23,
   "metadata": {},
   "outputs": [
    {
     "data": {
      "text/plain": [
       "<speech_recognition.AudioData at 0x259d2f4f2e8>"
      ]
     },
     "execution_count": 23,
     "metadata": {},
     "output_type": "execute_result"
    }
   ],
   "source": [
    "with eng_file as source:\n",
    "    r.adjust_for_ambient_noise(source)\n",
    "    audio = r.record(source )"
   ]
  },
  {
   "cell_type": "code",
   "execution_count": 28,
   "metadata": {},
   "outputs": [],
   "source": [
    "text_eng=r.recognize_google(audio)"
   ]
  },
  {
   "cell_type": "code",
   "execution_count": 29,
   "metadata": {},
   "outputs": [
    {
     "name": "stdout",
     "output_type": "stream",
     "text": [
      "newspaper on the smooth bike seat without play background 2008 available please say it again I get over this price is after insert in Rampur to juice of lemons mix. 500 Park source on the side effects up to how to search quilling art for the study works based advertising starting is heart sound\n"
     ]
    }
   ],
   "source": [
    "print(text_eng)"
   ]
  },
  {
   "cell_type": "markdown",
   "metadata": {},
   "source": [
    "### Hindi audio file "
   ]
  },
  {
   "cell_type": "code",
   "execution_count": 30,
   "metadata": {},
   "outputs": [],
   "source": [
    "hindi_file= sr.AudioFile('hindi_file.wav')"
   ]
  },
  {
   "cell_type": "code",
   "execution_count": 31,
   "metadata": {},
   "outputs": [],
   "source": [
    "with hindi_file as source:\n",
    "    audio = r.record(source)"
   ]
  },
  {
   "cell_type": "code",
   "execution_count": 35,
   "metadata": {},
   "outputs": [],
   "source": [
    "text=r.recognize_google(audio)"
   ]
  },
  {
   "cell_type": "code",
   "execution_count": 36,
   "metadata": {},
   "outputs": [
    {
     "name": "stdout",
     "output_type": "stream",
     "text": [
      "Keshav ke ghar mein Char khidkiyan Hain Kai log Kumar ko Pasand Karte Hain Tumhare khargosh Ka Rang Safed hai aapki gacrkl se yahan hai kal ka khana Sulekha ki lalkar banayegi Akshay ki Kheer Garam Ho Gayi Main Kal Khwab Mein Ek Khubsurat gadi Dekhe Ja Khabar sunkar Raghu Khushi Se Pagal Ho Gaya Khud Ki Ladai Mein Kaisi Jawani Ghayal Hue kakahi ke aage Gori chal rahi hai kaisa non pahle Sita Ki Agni Pariksha hui thi aap Ki Khoj mein kaun sa Ghoda Shamil Karen Aap Ki Dua Se Sab khairiyat Hai is varsh jansankhya ki Jayanti Mein dialogue chhut Gaye Mausam badalne par mere khoon mein Dard shuru ho jata hai Gumnaam logo ko gairon se kaha ki Asha Nahin Karni chahiye\n"
     ]
    }
   ],
   "source": [
    "print(text)"
   ]
  },
  {
   "cell_type": "code",
   "execution_count": 37,
   "metadata": {},
   "outputs": [],
   "source": [
    "import goslate"
   ]
  },
  {
   "cell_type": "code",
   "execution_count": 38,
   "metadata": {},
   "outputs": [
    {
     "data": {
      "text/plain": [
       "'Hindi'"
      ]
     },
     "execution_count": 38,
     "metadata": {},
     "output_type": "execute_result"
    }
   ],
   "source": [
    "gs = goslate.Goslate()\n",
    "language_id = gs.detect(text)\n",
    "gs.get_languages()[language_id]"
   ]
  },
  {
   "cell_type": "code",
   "execution_count": 39,
   "metadata": {},
   "outputs": [],
   "source": [
    "text_hindi=r.recognize_google(audio , language='hi-IN')"
   ]
  },
  {
   "cell_type": "code",
   "execution_count": 40,
   "metadata": {},
   "outputs": [
    {
     "name": "stdout",
     "output_type": "stream",
     "text": [
      "केशव के घर में चार खिड़कियां हैं कई लोग कुमार को पसंद करते हैं तुम्हारे खरगोश का रंग सफेद है आपकी गायक कल से यहां है कल का खाना सुलेखा की डालकर बनाएगी अक्षय की खीर गरम हो गई मैंने कल ख्वाब में एक खूबसूरत गाड़ी देखी यह खबर सुनकर रघु खुशी से पागल हो गया कुरुख की लड़ाई में कई जवान घायल हुए कैकई के आगे गौरी चल रही है कई सालों पहले सीता की अग्नि परीक्षा हुई थी आपकी खोज में कौन सा घोड़ा शामिल करें आपकी दुआ से सब खैरियत है इस वर्ष जनसंख्या की गिनती में कई लोग छूट गए मौसम बदलने पर मेरे न्यू में दर्द शुरू हो जाता है गुमनाम लोगों को गैरों से उपकार की आशा नहीं करनी चाहिए\n"
     ]
    }
   ],
   "source": [
    "print(text_hindi)"
   ]
  },
  {
   "cell_type": "markdown",
   "metadata": {},
   "source": [
    "### Analysing frequency for given audio files "
   ]
  },
  {
   "cell_type": "code",
   "execution_count": 41,
   "metadata": {},
   "outputs": [],
   "source": [
    "from scipy.fftpack import fft\n",
    "from scipy.io import wavfile as wav"
   ]
  },
  {
   "cell_type": "code",
   "execution_count": 42,
   "metadata": {},
   "outputs": [],
   "source": [
    "rate, data_eng = wav.read('eng_file.wav')"
   ]
  },
  {
   "cell_type": "code",
   "execution_count": 43,
   "metadata": {},
   "outputs": [],
   "source": [
    "rate, data_hindi=wav.read('hindi_file.wav')"
   ]
  },
  {
   "cell_type": "code",
   "execution_count": 44,
   "metadata": {},
   "outputs": [],
   "source": [
    "fft_out_eng = fft(data_eng)\n",
    "fft_out_hindi = fft(data_hindi)"
   ]
  },
  {
   "cell_type": "code",
   "execution_count": 45,
   "metadata": {},
   "outputs": [
    {
     "data": {
      "image/png": "[encoded data removed]",
      "text/plain": [
       "<Figure size 432x288 with 1 Axes>"
      ]
     },
     "metadata": {},
     "output_type": "display_data"
    }
   ],
   "source": [
    "%matplotlib inline\n",
    "plt.plot(data_eng, np.abs(fft_out_eng))\n",
    "plt.show()"
   ]
  },
  {
   "cell_type": "code",
   "execution_count": 46,
   "metadata": {},
   "outputs": [
    {
     "data": {
      "image/png": "[encoded data removed]",
      "text/plain": [
       "<Figure size 432x288 with 1 Axes>"
      ]
     },
     "metadata": {},
     "output_type": "display_data"
    }
   ],
   "source": [
    "%matplotlib inline\n",
    "plt.plot(data_hindi, np.abs(fft_out_hindi))\n",
    "plt.show()"
   ]
  },
  {
   "cell_type": "markdown",
   "metadata": {},
   "source": [
    "# Speech to text conversion"
   ]
  },
  {
   "cell_type": "code",
   "execution_count": 94,
   "metadata": {},
   "outputs": [
    {
     "name": "stdout",
     "output_type": "stream",
     "text": [
      "speak anything :\n"
     ]
    }
   ],
   "source": [
    "with mic as source:\n",
    "    print(\"speak anything :\")\n",
    "    r.adjust_for_ambient_noise(source)\n",
    "    r.pause_threshold = 180 # during testing make 180 to 15 .\n",
    "    audio = r.listen(source)"
   ]
  },
  {
   "cell_type": "code",
   "execution_count": 95,
   "metadata": {},
   "outputs": [
    {
     "name": "stdout",
     "output_type": "stream",
     "text": [
      "you said :  {'alternative': [{'transcript': 'hello everyone I am talking about project on Google', 'confidence': 0.92995483}, {'transcript': 'hello everyone I am talking about projects on Google'}, {'transcript': 'hello everyone I am talking about project on Google Now'}], 'final': True}\n"
     ]
    }
   ],
   "source": [
    "try:\n",
    "    text_converted = r.recognize_google(audio , language ='en-IN',show_all = True)\n",
    "    print(\"you said :  {}\".format(text_converted))\n",
    "except:\n",
    "    print(\"sorry could not recognize your voice\")"
   ]
  },
  {
   "cell_type": "markdown",
   "metadata": {},
   "source": [
    "# Topic modelling on generated text "
   ]
  },
  {
   "cell_type": "markdown",
   "metadata": {},
   "source": [
    "#### we are using different text on different topic for better analysis . \n",
    "#### If required you could convert the text from speech or audio file and pass it to doc ,"
   ]
  },
  {
   "cell_type": "code",
   "execution_count": 61,
   "metadata": {},
   "outputs": [],
   "source": [
    "import speech_recognition as sr\n",
    "import pyaudio\n",
    "import matplotlib.pyplot as plt\n",
    "\n",
    "import numpy as np"
   ]
  },
  {
   "cell_type": "code",
   "execution_count": 62,
   "metadata": {},
   "outputs": [],
   "source": [
    "r = sr.Recognizer()"
   ]
  },
  {
   "cell_type": "code",
   "execution_count": 63,
   "metadata": {},
   "outputs": [],
   "source": [
    "eng_speech = sr.AudioFile('iasspeech.wav')"
   ]
  },
  {
   "cell_type": "code",
   "execution_count": 64,
   "metadata": {},
   "outputs": [],
   "source": [
    "eng_speech2 = sr.AudioFile('sportsspeech.wav')"
   ]
  },
  {
   "cell_type": "code",
   "execution_count": 65,
   "metadata": {},
   "outputs": [],
   "source": [
    "with eng_speech as source:\n",
    "    r.adjust_for_ambient_noise(source)\n",
    "    audio = r.record(source )"
   ]
  },
  {
   "cell_type": "code",
   "execution_count": 66,
   "metadata": {},
   "outputs": [],
   "source": [
    "with eng_speech2 as source:\n",
    "    r.adjust_for_ambient_noise(source)\n",
    "    audio2 = r.record(source )"
   ]
  },
  {
   "cell_type": "code",
   "execution_count": 67,
   "metadata": {},
   "outputs": [],
   "source": [
    "text_eng_speech=r.recognize_google(audio )"
   ]
  },
  {
   "cell_type": "code",
   "execution_count": 68,
   "metadata": {},
   "outputs": [],
   "source": [
    "text_eng_speech2=r.recognize_google(audio2 )"
   ]
  },
  {
   "cell_type": "code",
   "execution_count": 69,
   "metadata": {},
   "outputs": [
    {
     "name": "stdout",
     "output_type": "stream",
     "text": [
      "is won the prestigious services among the 24 services Mike IPS examination and officers selected into the Indian Administrative Service gets exposure in reverse voltage regulator commissioner head of public sector units chief secretary Cabinet Secretary the salary of civil servants salary quotes is not easy considering the competition but not impossible for a candidate with right attitude and approach UPSC public service commission is the government agency responsible for selecting the right candidate for this service every 1024 services combined defence service exam depth of the syllabus of the first stage of exam objective is usually conducted and their skin the final result usually comes in\n"
     ]
    }
   ],
   "source": [
    "print(text_eng_speech)"
   ]
  },
  {
   "cell_type": "code",
   "execution_count": 70,
   "metadata": {},
   "outputs": [
    {
     "name": "stdout",
     "output_type": "stream",
     "text": [
      "Punjab comparative physical activity games which 13 organised participation in physical sports exhaust for others between single contestants 3800 simultaneous participants of incidence is raising many contestants Mein complete simultaneously your consecutively with 1 winner in others the contest is between two sides attempting to read some sports other provider breaking many sports leagues power in some cases by players sport is generally recognised 245 sport is usually driven by a set of rules for customs which help to ensure fair competition and consistent adjudication of the winner can be determined by physical events such as going girl crossing a line first it can also be determined by George this was going Amazon the Sporting performance including objective or subjective measures such a static or performance Rochester compression\n"
     ]
    }
   ],
   "source": [
    "print(text_eng_speech2)"
   ]
  },
  {
   "cell_type": "code",
   "execution_count": 71,
   "metadata": {},
   "outputs": [],
   "source": [
    "import nltk"
   ]
  },
  {
   "cell_type": "code",
   "execution_count": 72,
   "metadata": {},
   "outputs": [
    {
     "name": "stdout",
     "output_type": "stream",
     "text": [
      "[nltk_data] Downloading package stopwords to\n",
      "[nltk_data]     C:\\Users\\PUSHKAL\\AppData\\Roaming\\nltk_data...\n",
      "[nltk_data]   Package stopwords is already up-to-date!\n",
      "[nltk_data] Downloading package wordnet to\n",
      "[nltk_data]     C:\\Users\\PUSHKAL\\AppData\\Roaming\\nltk_data...\n",
      "[nltk_data]   Package wordnet is already up-to-date!\n"
     ]
    },
    {
     "data": {
      "text/plain": [
       "True"
      ]
     },
     "execution_count": 72,
     "metadata": {},
     "output_type": "execute_result"
    }
   ],
   "source": [
    "nltk.download('stopwords')\n",
    "nltk.download('wordnet')"
   ]
  },
  {
   "cell_type": "code",
   "execution_count": 73,
   "metadata": {},
   "outputs": [],
   "source": [
    "import re\n",
    "import numpy as np\n",
    "import pandas as pd\n",
    "from pprint import pprint"
   ]
  },
  {
   "cell_type": "code",
   "execution_count": 74,
   "metadata": {},
   "outputs": [],
   "source": [
    "# Gensim\n",
    "import gensim\n",
    "import gensim.corpora as corpora\n",
    "from gensim.utils import simple_preprocess\n",
    "from gensim.models import CoherenceModel"
   ]
  },
  {
   "cell_type": "code",
   "execution_count": 75,
   "metadata": {},
   "outputs": [],
   "source": [
    "# spacy for lemmatization\n",
    "import spacy"
   ]
  },
  {
   "cell_type": "code",
   "execution_count": 76,
   "metadata": {},
   "outputs": [],
   "source": [
    "import matplotlib.pyplot as plt\n",
    "%matplotlib inline"
   ]
  },
  {
   "cell_type": "code",
   "execution_count": 77,
   "metadata": {},
   "outputs": [],
   "source": [
    "# compile documents\n",
    "doc_complete = [text_eng_speech,text_eng_speech2]\n",
    "#doc6 = \"The purpose of a gasoline car engine is to convert gasoline into motion so that your car can move. Currently the easiest way to create motion from gasoline is to burn the gasoline inside an engine. Therefore, a car engine is an internal combustion engine — combustion takes place internally.There are different kinds of internal combustion engines. Diesel engines are one type and gas turbine engines are another. Each has its own advantages and disadvantages.\"\n",
    "#doc7 =\"There is also the external combustion engine. The steam engine in old-fashioned trains and steam boats is the best example of an external combustion engine. The fuel (coal, wood, oil) in a steam engine burns outside the engine to create steam, and the steam creates motion inside the engine. Internal combustion is a lot more efficient than external combustion, plus an internal combustion engine is a lot smaller.\"\n",
    "#doc8 =\"The Indian Administrative Service (IAS) is the administrative arm of the All India Services.[3] Considered the premier civil service of India,[3][4] the IAS is one of the three arms of the All India Services along with the Indian Police Service (IPS) and the Indian Forest Service (IFoS). Members of these three services serve the Government of India as well as the individual states. IAS officers may also be deployed to various public sector undertakings On attaining the higher scales of the pay matrix, IAS officers may lead government departments or ministries. In these roles, IAS officers represent the country at the international level in bilateral and multilateral negotiations. If serving on a deputation, they may be employed in intergovernmental organisations such as the World Bank, the International Monetary Fund, the Asian Development Bank, the Asian Infrastructure Investment Bank, or the United Nations, or its agencies. IAS officers are also involved in the conduct of elections in India as mandated by the Election Commission of India.\"\n",
    "#doc9 =\"There are three modes of recruitment into the Indian Administrative Service. IAS officers may enter the IAS by passing the Civil Services Examination, which is conducted by the Union Public Service Commission (UPSC).[3] Officers recruited this way are called direct recruits. Some IAS officers are also recruited from the state civil services,[3] and, in rare cases, selected from non-state civil service.[3] The ratio between direct recruits and promotees is fixed at 2:1. All IAS officers, regardless of the mode of entry, are appointed by the President of India.[18] Only about 180 candidates out of over 1 million applicants, who apply through the Civil Services Examination (CSE), are successful, a success rate of less than 0.01 per cent.[10][21] As a result, the members of the service are often referred as heaven-born.[22][23] \"\n",
    "#doc_complete=[doc6, doc7, doc8, doc9]"
   ]
  },
  {
   "cell_type": "code",
   "execution_count": 78,
   "metadata": {},
   "outputs": [],
   "source": [
    "from nltk.corpus import stopwords \n",
    "from nltk.stem.wordnet import WordNetLemmatizer\n",
    "import string\n",
    "\n",
    "stop = set(stopwords.words('english'))\n",
    "exclude = set(string.punctuation) \n",
    "lemma = WordNetLemmatizer()\n",
    "stop_words = stopwords.words('english')\n",
    "def clean(doc):\n",
    "    stop_free = \" \".join([i for i in doc.lower().split() if i not in stop])\n",
    "    punc_free = ''.join(ch for ch in stop_free if ch not in exclude)\n",
    "    normalized = \" \".join(lemma.lemmatize(word) for word in punc_free.split())\n",
    "    return normalized\n",
    "\n",
    "doc_clean = [clean(doc).split() for doc in doc_complete]        "
   ]
  },
  {
   "cell_type": "code",
   "execution_count": 79,
   "metadata": {},
   "outputs": [
    {
     "data": {
      "text/plain": [
       "[['prestigious',\n",
       "  'service',\n",
       "  'among',\n",
       "  '24',\n",
       "  'service',\n",
       "  'mike',\n",
       "  'ip',\n",
       "  'examination',\n",
       "  'officer',\n",
       "  'selected',\n",
       "  'indian',\n",
       "  'administrative',\n",
       "  'service',\n",
       "  'get',\n",
       "  'exposure',\n",
       "  'reverse',\n",
       "  'voltage',\n",
       "  'regulator',\n",
       "  'commissioner',\n",
       "  'head',\n",
       "  'public',\n",
       "  'sector',\n",
       "  'unit',\n",
       "  'chief',\n",
       "  'secretary',\n",
       "  'cabinet',\n",
       "  'secretary',\n",
       "  'salary',\n",
       "  'civil',\n",
       "  'servant',\n",
       "  'salary',\n",
       "  'quote',\n",
       "  'easy',\n",
       "  'considering',\n",
       "  'competition',\n",
       "  'impossible',\n",
       "  'candidate',\n",
       "  'right',\n",
       "  'attitude',\n",
       "  'approach',\n",
       "  'upsc',\n",
       "  'public',\n",
       "  'service',\n",
       "  'commission',\n",
       "  'government',\n",
       "  'agency',\n",
       "  'responsible',\n",
       "  'selecting',\n",
       "  'right',\n",
       "  'candidate',\n",
       "  'service',\n",
       "  'every',\n",
       "  '1024',\n",
       "  'service',\n",
       "  'combined',\n",
       "  'defence',\n",
       "  'service',\n",
       "  'exam',\n",
       "  'depth',\n",
       "  'syllabus',\n",
       "  'first',\n",
       "  'stage',\n",
       "  'exam',\n",
       "  'objective',\n",
       "  'usually',\n",
       "  'conducted',\n",
       "  'skin',\n",
       "  'final',\n",
       "  'result',\n",
       "  'usually',\n",
       "  'come'],\n",
       " ['punjab',\n",
       "  'comparative',\n",
       "  'physical',\n",
       "  'activity',\n",
       "  'game',\n",
       "  '13',\n",
       "  'organised',\n",
       "  'participation',\n",
       "  'physical',\n",
       "  'sport',\n",
       "  'exhaust',\n",
       "  'others',\n",
       "  'single',\n",
       "  'contestant',\n",
       "  '3800',\n",
       "  'simultaneous',\n",
       "  'participant',\n",
       "  'incidence',\n",
       "  'raising',\n",
       "  'many',\n",
       "  'contestant',\n",
       "  'mein',\n",
       "  'complete',\n",
       "  'simultaneously',\n",
       "  'consecutively',\n",
       "  '1',\n",
       "  'winner',\n",
       "  'others',\n",
       "  'contest',\n",
       "  'two',\n",
       "  'side',\n",
       "  'attempting',\n",
       "  'read',\n",
       "  'sport',\n",
       "  'provider',\n",
       "  'breaking',\n",
       "  'many',\n",
       "  'sport',\n",
       "  'league',\n",
       "  'power',\n",
       "  'case',\n",
       "  'player',\n",
       "  'sport',\n",
       "  'generally',\n",
       "  'recognised',\n",
       "  '245',\n",
       "  'sport',\n",
       "  'usually',\n",
       "  'driven',\n",
       "  'set',\n",
       "  'rule',\n",
       "  'custom',\n",
       "  'help',\n",
       "  'ensure',\n",
       "  'fair',\n",
       "  'competition',\n",
       "  'consistent',\n",
       "  'adjudication',\n",
       "  'winner',\n",
       "  'determined',\n",
       "  'physical',\n",
       "  'event',\n",
       "  'going',\n",
       "  'girl',\n",
       "  'crossing',\n",
       "  'line',\n",
       "  'first',\n",
       "  'also',\n",
       "  'determined',\n",
       "  'george',\n",
       "  'going',\n",
       "  'amazon',\n",
       "  'sporting',\n",
       "  'performance',\n",
       "  'including',\n",
       "  'objective',\n",
       "  'subjective',\n",
       "  'measure',\n",
       "  'static',\n",
       "  'performance',\n",
       "  'rochester',\n",
       "  'compression']]"
      ]
     },
     "execution_count": 79,
     "metadata": {},
     "output_type": "execute_result"
    }
   ],
   "source": [
    "doc_clean"
   ]
  },
  {
   "cell_type": "code",
   "execution_count": 80,
   "metadata": {},
   "outputs": [
    {
     "name": "stdout",
     "output_type": "stream",
     "text": [
      "[['prestigious', 'service', 'among', 'service', 'mike', 'ip', 'examination', 'officer', 'selected', 'indian', 'administrative', 'service', 'get', 'exposure', 'reverse', 'voltage', 'regulator', 'commissioner', 'head', 'public', 'sector', 'unit', 'chief', 'secretary', 'cabinet', 'secretary', 'salary', 'civil', 'servant', 'salary', 'quote', 'easy', 'considering', 'competition', 'impossible', 'candidate', 'right', 'attitude', 'approach', 'upsc', 'public', 'service', 'commission', 'government', 'agency', 'responsible', 'selecting', 'right', 'candidate', 'service', 'every', 'service', 'combined', 'defence', 'service', 'exam', 'depth', 'syllabus', 'first', 'stage', 'exam', 'objective', 'usually', 'conducted', 'skin', 'final', 'result', 'usually', 'come'], ['punjab', 'comparative', 'physical', 'activity', 'game', 'organised', 'participation', 'physical', 'sport', 'exhaust', 'others', 'single', 'contestant', 'simultaneous', 'participant', 'incidence', 'raising', 'many', 'contestant', 'mein', 'complete', 'simultaneously', 'consecutively', 'winner', 'others', 'contest', 'two', 'side', 'attempting', 'read', 'sport', 'provider', 'breaking', 'many', 'sport', 'league', 'power', 'case', 'player', 'sport', 'generally', 'recognised', 'sport', 'usually', 'driven', 'set', 'rule', 'custom', 'help', 'ensure', 'fair', 'competition', 'consistent', 'adjudication', 'winner', 'determined', 'physical', 'event', 'going', 'girl', 'crossing', 'line', 'first', 'also', 'determined', 'george', 'going', 'amazon', 'sporting', 'performance', 'including', 'objective', 'subjective', 'measure', 'static', 'performance', 'rochester', 'compression']]\n"
     ]
    }
   ],
   "source": [
    "def sent_to_words(sentences):\n",
    "    for sentence in sentences:\n",
    "        yield(gensim.utils.simple_preprocess(str(sentence), deacc=True))  # deacc=True removes punctuations\n",
    "\n",
    "data_words = list(sent_to_words(doc_clean))\n",
    "\n",
    "print(data_words[:])"
   ]
  },
  {
   "cell_type": "code",
   "execution_count": 81,
   "metadata": {},
   "outputs": [
    {
     "name": "stdout",
     "output_type": "stream",
     "text": [
      "['prestigious', 'service', 'among', 'service', 'mike', 'ip', 'examination', 'officer', 'selected', 'indian', 'administrative', 'service', 'get', 'exposure', 'reverse', 'voltage', 'regulator', 'commissioner', 'head', 'public', 'sector', 'unit', 'chief', 'secretary', 'cabinet', 'secretary', 'salary', 'civil', 'servant', 'salary', 'quote', 'easy', 'considering', 'competition', 'impossible', 'candidate', 'right', 'attitude', 'approach', 'upsc', 'public', 'service', 'commission', 'government', 'agency', 'responsible', 'selecting', 'right', 'candidate', 'service', 'every', 'service', 'combined', 'defence', 'service', 'exam', 'depth', 'syllabus', 'first', 'stage', 'exam', 'objective', 'usually', 'conducted', 'skin', 'final', 'result', 'usually', 'come']\n",
      "['punjab', 'comparative', 'physical', 'activity', 'game', 'organised', 'participation', 'physical', 'sport', 'exhaust', 'others', 'single', 'contestant', 'simultaneous', 'participant', 'incidence', 'raising', 'many', 'contestant', 'mein', 'complete', 'simultaneously', 'consecutively', 'winner', 'others', 'contest', 'two', 'side', 'attempting', 'read', 'sport', 'provider', 'breaking', 'many', 'sport', 'league', 'power', 'case', 'player', 'sport', 'generally', 'recognised', 'sport', 'usually', 'driven', 'set', 'rule', 'custom', 'help', 'ensure', 'fair', 'competition', 'consistent', 'adjudication', 'winner', 'determined', 'physical', 'event', 'going', 'girl', 'crossing', 'line', 'first', 'also', 'determined', 'george', 'going', 'amazon', 'sporting', 'performance', 'including', 'objective', 'subjective', 'measure', 'static', 'performance', 'rochester', 'compression']\n"
     ]
    }
   ],
   "source": [
    "# Build the bigram and trigram models\n",
    "bigram = gensim.models.Phrases(data_words, min_count=5, threshold=100) # higher threshold fewer phrases.\n",
    "trigram = gensim.models.Phrases(bigram[data_words], threshold=100)  \n",
    "\n",
    "# Faster way to get a sentence clubbed as a trigram/bigram\n",
    "bigram_mod = gensim.models.phrases.Phraser(bigram)\n",
    "trigram_mod = gensim.models.phrases.Phraser(trigram)\n",
    "\n",
    "# See trigram example\n",
    "for i in range(0,len(data_words)):\n",
    "    print(trigram_mod[bigram_mod[data_words[i]]])"
   ]
  },
  {
   "cell_type": "code",
   "execution_count": 82,
   "metadata": {},
   "outputs": [],
   "source": [
    "# Define functions for stopwords, bigrams, trigrams and lemmatization\n",
    "def remove_stopwords(texts):\n",
    "    return [[word for word in simple_preprocess(str(doc)) if word not in stop_words] for doc in texts]\n",
    "\n",
    "def make_bigrams(texts):\n",
    "    return [bigram_mod[doc] for doc in texts]\n",
    "\n",
    "def make_trigrams(texts):\n",
    "    return [trigram_mod[bigram_mod[doc]] for doc in texts]\n",
    "\n",
    "def lemmatization(texts, allowed_postags=['NOUN', 'ADJ', 'VERB', 'ADV']):\n",
    "    \"\"\"https://spacy.io/api/annotation\"\"\"\n",
    "    texts_out = []\n",
    "    for sent in texts:\n",
    "        doc = nlp(\" \".join(sent)) \n",
    "        texts_out.append([token.lemma_ for token in doc if token.pos_ in allowed_postags])\n",
    "    return texts_out"
   ]
  },
  {
   "cell_type": "code",
   "execution_count": 83,
   "metadata": {},
   "outputs": [
    {
     "name": "stdout",
     "output_type": "stream",
     "text": [
      "[['prestigious', 'service', 'service', 'mike', 'examination', 'officer', 'select', 'indian', 'administrative', 'service', 'get', 'exposure', 'reverse', 'voltage', 'regulator', 'commissioner', 'head', 'public', 'sector', 'unit', 'chief', 'secretary', 'cabinet', 'secretary', 'salary', 'civil', 'servant', 'salary', 'easy', 'consider', 'competition', 'impossible', 'candidate', 'right', 'attitude', 'approach', 'upsc', 'public', 'service', 'commission', 'government', 'agency', 'responsible', 'select', 'right', 'candidate', 'service', 'service', 'combine', 'defence', 'service', 'exam', 'depth', 'syllabus', 'first', 'stage', 'exam', 'objective', 'usually', 'conduct', 'skin', 'final', 'result', 'usually', 'come'], ['punjab', 'comparative', 'physical', 'activity', 'game', 'organise', 'participation', 'physical', 'sport', 'exhaust', 'other', 'single', 'contestant', 'simultaneous', 'participant', 'incidence', 'raise', 'many', 'contestant', 'mein', 'complete', 'simultaneously', 'consecutively', 'winner', 'other', 'contest', 'side', 'attempt', 'read', 'sport', 'provider', 'break', 'many', 'sport', 'league', 'power', 'case', 'player', 'sport', 'generally', 'recognise', 'sport', 'usually', 'drive', 'set', 'rule', 'custom', 'help', 'ensure', 'fair', 'competition', 'consistent', 'adjudication', 'winner', 'determine', 'physical', 'event', 'go', 'girl', 'cross', 'line', 'first', 'also', 'determine', 'george', 'go', 'amazon', 'sporting', 'performance', 'include', 'objective', 'subjective', 'measure', 'static', 'performance', 'rochester', 'compression']]\n"
     ]
    }
   ],
   "source": [
    "# Remove Stop Words\n",
    "data_words_nostops = remove_stopwords(data_words)\n",
    "\n",
    "# Form Bigrams\n",
    "data_words_bigrams = make_bigrams(data_words_nostops)\n",
    "\n",
    "# Initialize spacy 'en' model, keeping only tagger component (for efficiency)\n",
    "# python3 -m spacy download en\n",
    "nlp = spacy.load('en', disable=['parser', 'ner'])\n",
    "\n",
    "# Do lemmatization keeping only noun, adj, vb, adv\n",
    "data_lemmatized = lemmatization(data_words_bigrams, allowed_postags=['NOUN', 'ADJ', 'VERB', 'ADV'])\n",
    "\n",
    "print(data_lemmatized[:])"
   ]
  },
  {
   "cell_type": "code",
   "execution_count": 84,
   "metadata": {},
   "outputs": [
    {
     "name": "stdout",
     "output_type": "stream",
     "text": [
      "[[(0, 1), (1, 1), (2, 1), (3, 1), (4, 1), (5, 2), (6, 1), (7, 1), (8, 1), (9, 1), (10, 1), (11, 1), (12, 1), (13, 1), (14, 1), (15, 1), (16, 1), (17, 1), (18, 2), (19, 1), (20, 1), (21, 1), (22, 1), (23, 1), (24, 1), (25, 1), (26, 1), (27, 1), (28, 1), (29, 1), (30, 1), (31, 1), (32, 2), (33, 1), (34, 1), (35, 1), (36, 1), (37, 2), (38, 2), (39, 2), (40, 1), (41, 2), (42, 1), (43, 7), (44, 1), (45, 1), (46, 1), (47, 1), (48, 1), (49, 2), (50, 1)]]\n"
     ]
    }
   ],
   "source": [
    "# Create Dictionary\n",
    "id2word = corpora.Dictionary(data_lemmatized)\n",
    "\n",
    "# Create Corpus\n",
    "texts = data_lemmatized\n",
    "\n",
    "# Term Document Frequency\n",
    "corpus = [id2word.doc2bow(text) for text in texts]\n",
    "\n",
    "# View\n",
    "print(corpus[:1])"
   ]
  },
  {
   "cell_type": "code",
   "execution_count": 85,
   "metadata": {},
   "outputs": [
    {
     "data": {
      "text/plain": [
       "[[('administrative', 1),\n",
       "  ('agency', 1),\n",
       "  ('approach', 1),\n",
       "  ('attitude', 1),\n",
       "  ('cabinet', 1),\n",
       "  ('candidate', 2),\n",
       "  ('chief', 1),\n",
       "  ('civil', 1),\n",
       "  ('combine', 1),\n",
       "  ('come', 1),\n",
       "  ('commission', 1),\n",
       "  ('commissioner', 1),\n",
       "  ('competition', 1),\n",
       "  ('conduct', 1),\n",
       "  ('consider', 1),\n",
       "  ('defence', 1),\n",
       "  ('depth', 1),\n",
       "  ('easy', 1),\n",
       "  ('exam', 2),\n",
       "  ('examination', 1),\n",
       "  ('exposure', 1),\n",
       "  ('final', 1),\n",
       "  ('first', 1),\n",
       "  ('get', 1),\n",
       "  ('government', 1),\n",
       "  ('head', 1),\n",
       "  ('impossible', 1),\n",
       "  ('indian', 1),\n",
       "  ('mike', 1),\n",
       "  ('objective', 1),\n",
       "  ('officer', 1),\n",
       "  ('prestigious', 1),\n",
       "  ('public', 2),\n",
       "  ('regulator', 1),\n",
       "  ('responsible', 1),\n",
       "  ('result', 1),\n",
       "  ('reverse', 1),\n",
       "  ('right', 2),\n",
       "  ('salary', 2),\n",
       "  ('secretary', 2),\n",
       "  ('sector', 1),\n",
       "  ('select', 2),\n",
       "  ('servant', 1),\n",
       "  ('service', 7),\n",
       "  ('skin', 1),\n",
       "  ('stage', 1),\n",
       "  ('syllabus', 1),\n",
       "  ('unit', 1),\n",
       "  ('upsc', 1),\n",
       "  ('usually', 2),\n",
       "  ('voltage', 1)],\n",
       " [('competition', 1),\n",
       "  ('first', 1),\n",
       "  ('objective', 1),\n",
       "  ('usually', 1),\n",
       "  ('activity', 1),\n",
       "  ('adjudication', 1),\n",
       "  ('also', 1),\n",
       "  ('amazon', 1),\n",
       "  ('attempt', 1),\n",
       "  ('break', 1),\n",
       "  ('case', 1),\n",
       "  ('comparative', 1),\n",
       "  ('complete', 1),\n",
       "  ('compression', 1),\n",
       "  ('consecutively', 1),\n",
       "  ('consistent', 1),\n",
       "  ('contest', 1),\n",
       "  ('contestant', 2),\n",
       "  ('cross', 1),\n",
       "  ('custom', 1),\n",
       "  ('determine', 2),\n",
       "  ('drive', 1),\n",
       "  ('ensure', 1),\n",
       "  ('event', 1),\n",
       "  ('exhaust', 1),\n",
       "  ('fair', 1),\n",
       "  ('game', 1),\n",
       "  ('generally', 1),\n",
       "  ('george', 1),\n",
       "  ('girl', 1),\n",
       "  ('go', 2),\n",
       "  ('help', 1),\n",
       "  ('incidence', 1),\n",
       "  ('include', 1),\n",
       "  ('league', 1),\n",
       "  ('line', 1),\n",
       "  ('many', 2),\n",
       "  ('measure', 1),\n",
       "  ('mein', 1),\n",
       "  ('organise', 1),\n",
       "  ('other', 2),\n",
       "  ('participant', 1),\n",
       "  ('participation', 1),\n",
       "  ('performance', 2),\n",
       "  ('physical', 3),\n",
       "  ('player', 1),\n",
       "  ('power', 1),\n",
       "  ('provider', 1),\n",
       "  ('punjab', 1),\n",
       "  ('raise', 1),\n",
       "  ('read', 1),\n",
       "  ('recognise', 1),\n",
       "  ('rochester', 1),\n",
       "  ('rule', 1),\n",
       "  ('set', 1),\n",
       "  ('side', 1),\n",
       "  ('simultaneous', 1),\n",
       "  ('simultaneously', 1),\n",
       "  ('single', 1),\n",
       "  ('sport', 5),\n",
       "  ('sporting', 1),\n",
       "  ('static', 1),\n",
       "  ('subjective', 1),\n",
       "  ('winner', 2)]]"
      ]
     },
     "execution_count": 85,
     "metadata": {},
     "output_type": "execute_result"
    }
   ],
   "source": [
    "# Human readable format of corpus (term-frequency)\n",
    "[[(id2word[id], freq) for id, freq in cp] for cp in corpus[:]]"
   ]
  },
  {
   "cell_type": "code",
   "execution_count": 86,
   "metadata": {},
   "outputs": [
    {
     "name": "stdout",
     "output_type": "stream",
     "text": [
      "num_topics : 1 Perplexity : -4.972521180837926 coherence: 0.149211235238471\n",
      "num_topics : 2 Perplexity : -4.919676909328136 coherence: 0.8845818426972918\n",
      "num_topics : 3 Perplexity : -5.030302387937693 coherence: 0.6606825639666905\n",
      "num_topics : 4 Perplexity : -5.120426908135414 coherence: 0.8931619324392532\n",
      "num_topics : 5 Perplexity : -5.203201590289532 coherence: 0.780423636457496\n",
      "num_topics : 6 Perplexity : -5.2790712154877015 coherence: 0.9135160518678048\n",
      "num_topics : 7 Perplexity : -5.35031684162751 coherence: 0.9253370038052272\n",
      "num_topics : 8 Perplexity : -5.4133964588104835 coherence: 0.818665041175481\n",
      "num_topics : 9 Perplexity : -5.474385644348574 coherence: 0.8361641418412326\n",
      "num_topics : 10 Perplexity : -5.525455972048598 coherence: 0.4798575844734816\n",
      "num_topics : 11 Perplexity : -5.5765266798331705 coherence: 0.8961656255083782\n",
      "num_topics : 12 Perplexity : -5.626063991180608 coherence: 0.9636654707503429\n",
      "num_topics : 13 Perplexity : -5.669840652338216 coherence: 0.9777205150351739\n",
      "num_topics : 14 Perplexity : -5.713515719267684 coherence: 0.9759226267710046\n",
      "num_topics : 15 Perplexity : -5.755584320551913 coherence: 0.924710423380282\n",
      "num_topics : 16 Perplexity : -5.791164849845456 coherence: 0.9818979184660788\n",
      "num_topics : 17 Perplexity : -5.828773183092265 coherence: 0.9801715749878862\n",
      "num_topics : 18 Perplexity : -5.8632389143319195 coherence: 0.9597790621216539\n",
      "num_topics : 19 Perplexity : -5.899409658052552 coherence: 0.9696183701655945\n"
     ]
    }
   ],
   "source": [
    "coherence_values = []\n",
    "model_list = []\n",
    "for num_topics in range(1, 20, 1):\n",
    "    lda_model = gensim.models.ldamodel.LdaModel(corpus=corpus, id2word=id2word,num_topics=num_topics,random_state=0,update_every=1,chunksize=100,passes=10,alpha='auto',per_word_topics=True)\n",
    "    model_list.append(lda_model)\n",
    "    Perplexity_values= lda_model.log_perplexity(corpus) \n",
    "    coherence_model_lda = CoherenceModel(model=lda_model, texts=data_lemmatized, dictionary=id2word, coherence='c_v')\n",
    "    coherence_lda_values = coherence_model_lda.get_coherence()\n",
    "    coherence_values.append(coherence_model_lda.get_coherence() )\n",
    "    print('num_topics :',num_topics,'Perplexity :', Perplexity_values ,'coherence:' ,coherence_lda_values  )\n",
    "    \n"
   ]
  },
  {
   "cell_type": "code",
   "execution_count": 87,
   "metadata": {},
   "outputs": [
    {
     "data": {
      "image/png": "[encoded data removed]",
      "text/plain": [
       "<Figure size 432x288 with 1 Axes>"
      ]
     },
     "metadata": {},
     "output_type": "display_data"
    }
   ],
   "source": [
    "\n",
    "x = range(1,20,1)\n",
    "plt.plot(x, coherence_values)\n",
    "plt.xlabel(\"Num Topics\")\n",
    "plt.ylabel(\"Coherence score\")\n",
    "plt.legend((\"coherence_values\"), loc='best')\n",
    "plt.show()"
   ]
  },
  {
   "cell_type": "code",
   "execution_count": 88,
   "metadata": {},
   "outputs": [
    {
     "name": "stdout",
     "output_type": "stream",
     "text": [
      "[(0,\n",
      "  '0.041*\"sport\" + 0.026*\"physical\" + 0.019*\"winner\" + 0.019*\"contestant\" + '\n",
      "  '0.019*\"many\" + 0.019*\"other\" + 0.019*\"go\" + 0.019*\"determine\" + '\n",
      "  '0.019*\"performance\" + 0.011*\"league\"'),\n",
      " (1,\n",
      "  '0.062*\"service\" + 0.021*\"usually\" + 0.021*\"exam\" + 0.021*\"select\" + '\n",
      "  '0.021*\"public\" + 0.021*\"candidate\" + 0.021*\"salary\" + 0.021*\"right\" + '\n",
      "  '0.021*\"secretary\" + 0.012*\"competition\"')]\n"
     ]
    }
   ],
   "source": [
    "# Select the model and print the topics\n",
    "optimal_model = model_list[1]\n",
    "model_topics = optimal_model.show_topics(formatted=False)\n",
    "pprint(optimal_model.print_topics(num_words=10))"
   ]
  },
  {
   "cell_type": "code",
   "execution_count": 89,
   "metadata": {},
   "outputs": [],
   "source": [
    "# Build LDA model\n",
    "lda_model = gensim.models.ldamodel.LdaModel(corpus=corpus,\n",
    "                                           id2word=id2word,\n",
    "                                           num_topics=12, \n",
    "                                           random_state=0,\n",
    "                                           update_every=1,\n",
    "                                           chunksize=100,\n",
    "                                           passes=10,\n",
    "                                           alpha='auto',\n",
    "                                           per_word_topics=True)"
   ]
  },
  {
   "cell_type": "code",
   "execution_count": 90,
   "metadata": {},
   "outputs": [
    {
     "name": "stdout",
     "output_type": "stream",
     "text": [
      "[(0,\n",
      "  '0.009*\"girl\" + 0.009*\"go\" + 0.009*\"fair\" + 0.009*\"game\" + 0.009*\"generally\" '\n",
      "  '+ 0.009*\"george\" + 0.009*\"event\" + 0.009*\"league\" + 0.009*\"incidence\" + '\n",
      "  '0.009*\"ensure\"'),\n",
      " (1,\n",
      "  '0.095*\"service\" + 0.028*\"exam\" + 0.028*\"public\" + 0.028*\"usually\" + '\n",
      "  '0.028*\"salary\" + 0.028*\"candidate\" + 0.028*\"right\" + 0.028*\"select\" + '\n",
      "  '0.028*\"secretary\" + 0.015*\"administrative\"'),\n",
      " (2,\n",
      "  '0.009*\"service\" + 0.009*\"select\" + 0.009*\"usually\" + 0.009*\"exam\" + '\n",
      "  '0.009*\"candidate\" + 0.009*\"public\" + 0.009*\"secretary\" + 0.009*\"salary\" + '\n",
      "  '0.009*\"right\" + 0.009*\"consider\"'),\n",
      " (3,\n",
      "  '0.010*\"sport\" + 0.010*\"physical\" + 0.010*\"go\" + 0.009*\"other\" + '\n",
      "  '0.009*\"winner\" + 0.009*\"determine\" + 0.009*\"many\" + 0.009*\"contestant\" + '\n",
      "  '0.009*\"performance\" + 0.009*\"adjudication\"'),\n",
      " (4,\n",
      "  '0.009*\"girl\" + 0.009*\"go\" + 0.009*\"fair\" + 0.009*\"game\" + 0.009*\"generally\" '\n",
      "  '+ 0.009*\"george\" + 0.009*\"event\" + 0.009*\"league\" + 0.009*\"incidence\" + '\n",
      "  '0.009*\"ensure\"'),\n",
      " (5,\n",
      "  '0.009*\"girl\" + 0.009*\"go\" + 0.009*\"fair\" + 0.009*\"game\" + 0.009*\"generally\" '\n",
      "  '+ 0.009*\"george\" + 0.009*\"event\" + 0.009*\"league\" + 0.009*\"incidence\" + '\n",
      "  '0.009*\"ensure\"'),\n",
      " (6,\n",
      "  '0.009*\"sport\" + 0.009*\"physical\" + 0.009*\"determine\" + 0.009*\"other\" + '\n",
      "  '0.009*\"many\" + 0.009*\"winner\" + 0.009*\"rochester\" + 0.009*\"contestant\" + '\n",
      "  '0.009*\"go\" + 0.009*\"performance\"'),\n",
      " (7,\n",
      "  '0.009*\"girl\" + 0.009*\"go\" + 0.009*\"fair\" + 0.009*\"game\" + 0.009*\"generally\" '\n",
      "  '+ 0.009*\"george\" + 0.009*\"event\" + 0.009*\"league\" + 0.009*\"incidence\" + '\n",
      "  '0.009*\"ensure\"'),\n",
      " (8,\n",
      "  '0.010*\"service\" + 0.010*\"secretary\" + 0.009*\"select\" + 0.009*\"right\" + '\n",
      "  '0.009*\"candidate\" + 0.009*\"salary\" + 0.009*\"usually\" + 0.009*\"public\" + '\n",
      "  '0.009*\"exam\" + 0.009*\"unit\"'),\n",
      " (9,\n",
      "  '0.059*\"sport\" + 0.036*\"physical\" + 0.024*\"performance\" + 0.024*\"other\" + '\n",
      "  '0.024*\"go\" + 0.024*\"contestant\" + 0.024*\"many\" + 0.024*\"determine\" + '\n",
      "  '0.024*\"winner\" + 0.013*\"also\"'),\n",
      " (10,\n",
      "  '0.010*\"sport\" + 0.010*\"physical\" + 0.010*\"winner\" + 0.009*\"determine\" + '\n",
      "  '0.009*\"many\" + 0.009*\"contestant\" + 0.009*\"performance\" + 0.009*\"other\" + '\n",
      "  '0.009*\"go\" + 0.009*\"sporting\"'),\n",
      " (11,\n",
      "  '0.009*\"girl\" + 0.009*\"go\" + 0.009*\"fair\" + 0.009*\"game\" + 0.009*\"generally\" '\n",
      "  '+ 0.009*\"george\" + 0.009*\"event\" + 0.009*\"league\" + 0.009*\"incidence\" + '\n",
      "  '0.009*\"ensure\"')]\n"
     ]
    }
   ],
   "source": [
    "# Print the Keyword in the 10 topics\n",
    "pprint(lda_model.print_topics())\n",
    "doc_lda = lda_model[corpus]"
   ]
  },
  {
   "cell_type": "code",
   "execution_count": 93,
   "metadata": {},
   "outputs": [
    {
     "name": "stdout",
     "output_type": "stream",
     "text": [
      "\n",
      "Perplexity:  -5.626063991180608\n",
      "\n",
      "Coherence Score:  0.9636654707503429\n"
     ]
    }
   ],
   "source": [
    "# Compute Perplexity\n",
    "print('\\nPerplexity: ', lda_model.log_perplexity(corpus))  # a measure of how good the model is. lower the better.\n",
    "\n",
    "# Compute Coherence Score\n",
    "coherence_model_lda = CoherenceModel(model=lda_model, texts=data_lemmatized, dictionary=id2word, coherence='c_v')\n",
    "coherence_lda = coherence_model_lda.get_coherence()\n",
    "print('\\nCoherence Score: ', coherence_lda)"
   ]
  },
  {
   "cell_type": "code",
   "execution_count": null,
   "metadata": {},
   "outputs": [],
   "source": []
  },
  {
   "cell_type": "code",
   "execution_count": null,
   "metadata": {},
   "outputs": [],
   "source": []
  }
 ],
 "metadata": {
  "kernelspec": {
   "display_name": "Python 3",
   "language": "python",
   "name": "python3"
  },
  "language_info": {
   "codemirror_mode": {
    "name": "ipython",
    "version": 3
   },
   "file_extension": ".py",
   "mimetype": "text/x-python",
   "name": "python",
   "nbconvert_exporter": "python",
   "pygments_lexer": "ipython3",
   "version": "3.6.4"
  }
 },
 "nbformat": 4,
 "nbformat_minor": 2
}
